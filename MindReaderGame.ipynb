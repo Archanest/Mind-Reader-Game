{
 "cells": [
  {
   "cell_type": "code",
   "execution_count": 2,
   "metadata": {},
   "outputs": [],
   "source": [
    "from ipywidgets import *\n",
    "import numpy as np"
   ]
  },
  {
   "cell_type": "code",
   "execution_count": 3,
   "metadata": {},
   "outputs": [
    {
     "data": {
      "application/vnd.jupyter.widget-view+json": {
       "model_id": "4708d0d714ab4d028db40593f1b4af1c",
       "version_major": 2,
       "version_minor": 0
      },
      "text/plain": [
       "HBox(children=(Button(description='0', style=ButtonStyle()), Button(description='1', style=ButtonStyle())))"
      ]
     },
     "execution_count": 3,
     "metadata": {},
     "output_type": "execute_result"
    }
   ],
   "source": [
    "btn_0 = Button( description=\"0\" )\n",
    "btn_1 = Button( description=\"1\" )\n",
    "btns = HBox( [btn_0, btn_1])\n",
    "btns"
   ]
  },
  {
   "cell_type": "code",
   "execution_count": 4,
   "metadata": {},
   "outputs": [],
   "source": [
    "def click_0(b):\n",
    "    update_game(0)\n",
    "btn_0.on_click( click_0 )\n",
    "\n",
    "def click_1(b):\n",
    "    update_game(1)\n",
    "btn_1.on_click( click_1 )"
   ]
  },
  {
   "cell_type": "code",
   "execution_count": 5,
   "metadata": {},
   "outputs": [
    {
     "data": {
      "application/vnd.jupyter.widget-view+json": {
       "model_id": "73f10875ffb8478ca9cb8ca875bfa1f0",
       "version_major": 2,
       "version_minor": 0
      },
      "text/plain": [
       "VBox(children=(IntProgress(value=0, bar_style='success', description='You:', max=10), IntProgress(value=0, bar…"
      ]
     },
     "execution_count": 5,
     "metadata": {},
     "output_type": "execute_result"
    }
   ],
   "source": [
    "user_score = IntProgress( value=0, min=0, max=10, description=\"You:\", bar_style=\"success\")\n",
    "bot_score = IntProgress( value=0, min=0, max=10, description=\"Bot:\", bar_style=\"danger\")\n",
    "score_board = VBox( [user_score, bot_score] )\n",
    "score_board"
   ]
  },
  {
   "cell_type": "code",
   "execution_count": 6,
   "metadata": {},
   "outputs": [],
   "source": [
    "final_msg = HTML(\"<h1 style='color:green'> &nbsp You Win!</h1>\")\n",
    "over_msg = HTML(\"<h1 style='color:black'> &nbsp Game Over</h1>\")\n",
    "\n",
    "game_box = VBox( [HBox( [score_board, final_msg, over_msg] ), btns])\n",
    "game_box\n",
    "\n",
    "user_history = []\n",
    "final_msg.layout.visibility = \"hidden\"\n",
    "over_msg.layout.visibility = \"hidden\""
   ]
  },
  {
   "cell_type": "code",
   "execution_count": 7,
   "metadata": {},
   "outputs": [
    {
     "data": {
      "application/vnd.jupyter.widget-view+json": {
       "model_id": "10c2f270ceb2449ba012207324a40bce",
       "version_major": 2,
       "version_minor": 0
      },
      "text/plain": [
       "VBox(children=(HBox(children=(VBox(children=(IntProgress(value=0, bar_style='success', description='You:', max…"
      ]
     },
     "metadata": {},
     "output_type": "display_data"
    }
   ],
   "source": [
    "def update_game( user_choice ):\n",
    "    user_history_len = len( user_history )\n",
    "    if(user_history_len > 0):\n",
    "        probabilitas = sum( user_history ) / len( user_history )\n",
    "    else:\n",
    "        probabilitas = 0.5\n",
    "    computer_choice = np.random.binomial(1, probabilitas)\n",
    "    user_history.append( user_choice )\n",
    "    \n",
    "    if( computer_choice == user_choice):\n",
    "        bot_score.value += 1\n",
    "    else:\n",
    "        user_score.value += 1\n",
    "        \n",
    "    if( bot_score.value == 10 or user_score.value == 10 ):\n",
    "        if( bot_score.value == 10):\n",
    "            final_msg.value = \"<h1 style='color:red'> &nbsp You Lose! </h1>\"\n",
    "        final_msg.layout.visibility = \"visible\"\n",
    "        over_msg.layout.visibility = \"visible\"\n",
    "        \n",
    "        btn_0.disabled = True\n",
    "        btn_1.disabled = True\n",
    "        \n",
    "    return\n",
    "\n",
    "display (game_box)"
   ]
  }
 ],
 "metadata": {
  "kernelspec": {
   "display_name": "Python 3",
   "language": "python",
   "name": "python3"
  },
  "language_info": {
   "codemirror_mode": {
    "name": "ipython",
    "version": 3
   },
   "file_extension": ".py",
   "mimetype": "text/x-python",
   "name": "python",
   "nbconvert_exporter": "python",
   "pygments_lexer": "ipython3",
   "version": "3.11.2"
  },
  "orig_nbformat": 4
 },
 "nbformat": 4,
 "nbformat_minor": 2
}
